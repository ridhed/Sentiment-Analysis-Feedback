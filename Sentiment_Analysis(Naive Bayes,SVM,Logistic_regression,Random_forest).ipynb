{
 "cells": [
  {
   "cell_type": "code",
   "execution_count": 1,
   "id": "555688d2",
   "metadata": {},
   "outputs": [],
   "source": [
    "# Importing essential libraries\n",
    "import numpy as np\n",
    "import pandas as pd"
   ]
  },
  {
   "cell_type": "code",
   "execution_count": 2,
   "id": "f2ede25e",
   "metadata": {},
   "outputs": [],
   "source": [
    "# Loading the dataset\n",
    "messages = pd.read_csv('feedback_dataset.csv')"
   ]
  },
  {
   "cell_type": "code",
   "execution_count": 3,
   "id": "6d9c9c40",
   "metadata": {},
   "outputs": [
    {
     "data": {
      "text/plain": [
       "(5200, 2)"
      ]
     },
     "execution_count": 3,
     "metadata": {},
     "output_type": "execute_result"
    }
   ],
   "source": [
    "messages.shape"
   ]
  },
  {
   "cell_type": "code",
   "execution_count": 4,
   "id": "14e21576",
   "metadata": {},
   "outputs": [
    {
     "name": "stdout",
     "output_type": "stream",
     "text": [
      "<class 'pandas.core.frame.DataFrame'>\n",
      "RangeIndex: 5200 entries, 0 to 5199\n",
      "Data columns (total 2 columns):\n",
      " #   Column     Non-Null Count  Dtype \n",
      "---  ------     --------------  ----- \n",
      " 0   text       5200 non-null   object\n",
      " 1   sentiment  5200 non-null   int64 \n",
      "dtypes: int64(1), object(1)\n",
      "memory usage: 81.4+ KB\n"
     ]
    }
   ],
   "source": [
    "messages.info()"
   ]
  },
  {
   "cell_type": "code",
   "execution_count": 5,
   "id": "9c912843",
   "metadata": {},
   "outputs": [
    {
     "data": {
      "text/plain": [
       "Index(['text', 'sentiment'], dtype='object')"
      ]
     },
     "execution_count": 5,
     "metadata": {},
     "output_type": "execute_result"
    }
   ],
   "source": [
    "messages.columns"
   ]
  },
  {
   "cell_type": "code",
   "execution_count": 6,
   "id": "b91fad6d",
   "metadata": {},
   "outputs": [
    {
     "data": {
      "text/html": [
       "<div>\n",
       "<style scoped>\n",
       "    .dataframe tbody tr th:only-of-type {\n",
       "        vertical-align: middle;\n",
       "    }\n",
       "\n",
       "    .dataframe tbody tr th {\n",
       "        vertical-align: top;\n",
       "    }\n",
       "\n",
       "    .dataframe thead th {\n",
       "        text-align: right;\n",
       "    }\n",
       "</style>\n",
       "<table border=\"1\" class=\"dataframe\">\n",
       "  <thead>\n",
       "    <tr style=\"text-align: right;\">\n",
       "      <th></th>\n",
       "      <th>text</th>\n",
       "      <th>sentiment</th>\n",
       "    </tr>\n",
       "  </thead>\n",
       "  <tbody>\n",
       "    <tr>\n",
       "      <th>0</th>\n",
       "      <td>Display is excellent and camera is as good as ...</td>\n",
       "      <td>1</td>\n",
       "    </tr>\n",
       "    <tr>\n",
       "      <th>1</th>\n",
       "      <td>Battery life is also great!</td>\n",
       "      <td>1</td>\n",
       "    </tr>\n",
       "    <tr>\n",
       "      <th>2</th>\n",
       "      <td>Protects the phone on all sides.</td>\n",
       "      <td>1</td>\n",
       "    </tr>\n",
       "    <tr>\n",
       "      <th>3</th>\n",
       "      <td>Clear Skype Calls, Long Battery Life, Long Range.</td>\n",
       "      <td>1</td>\n",
       "    </tr>\n",
       "    <tr>\n",
       "      <th>4</th>\n",
       "      <td>Great Hands Free Device.</td>\n",
       "      <td>1</td>\n",
       "    </tr>\n",
       "  </tbody>\n",
       "</table>\n",
       "</div>"
      ],
      "text/plain": [
       "                                                text  sentiment\n",
       "0  Display is excellent and camera is as good as ...          1\n",
       "1                        Battery life is also great!          1\n",
       "2                   Protects the phone on all sides.          1\n",
       "3  Clear Skype Calls, Long Battery Life, Long Range.          1\n",
       "4                           Great Hands Free Device.          1"
      ]
     },
     "execution_count": 6,
     "metadata": {},
     "output_type": "execute_result"
    }
   ],
   "source": [
    "messages.head()"
   ]
  },
  {
   "cell_type": "markdown",
   "id": "fb122dba",
   "metadata": {},
   "source": [
    "# "
   ]
  },
  {
   "cell_type": "markdown",
   "id": "9bf1c939",
   "metadata": {},
   "source": [
    "# Data Cleaning & Preprocessing"
   ]
  },
  {
   "cell_type": "code",
   "execution_count": 7,
   "id": "2be2a4ff",
   "metadata": {},
   "outputs": [
    {
     "data": {
      "text/plain": [
       "array([1, 0], dtype=int64)"
      ]
     },
     "execution_count": 7,
     "metadata": {},
     "output_type": "execute_result"
    }
   ],
   "source": [
    "messages.sentiment.unique()"
   ]
  },
  {
   "cell_type": "code",
   "execution_count": 8,
   "id": "a58ea87b",
   "metadata": {},
   "outputs": [],
   "source": [
    "def to_sentiment(sentiment):\n",
    "  sentiment = sentiment\n",
    "  if sentiment == 0:\n",
    "    return 'negative'\n",
    "  else: \n",
    "    return 'positive'\n",
    "messages['target'] = messages.sentiment.apply(to_sentiment)"
   ]
  },
  {
   "cell_type": "code",
   "execution_count": 9,
   "id": "fb2dd30c",
   "metadata": {},
   "outputs": [
    {
     "data": {
      "text/plain": [
       "0       positive\n",
       "1       positive\n",
       "2       positive\n",
       "3       positive\n",
       "4       positive\n",
       "          ...   \n",
       "5195    negative\n",
       "5196    negative\n",
       "5197    negative\n",
       "5198    negative\n",
       "5199    negative\n",
       "Name: target, Length: 5200, dtype: object"
      ]
     },
     "execution_count": 9,
     "metadata": {},
     "output_type": "execute_result"
    }
   ],
   "source": [
    "messages['target']"
   ]
  },
  {
   "cell_type": "code",
   "execution_count": 10,
   "id": "3954212e",
   "metadata": {},
   "outputs": [
    {
     "name": "stderr",
     "output_type": "stream",
     "text": [
      "[nltk_data] Downloading package stopwords to\n",
      "[nltk_data]     C:\\Users\\user\\AppData\\Roaming\\nltk_data...\n",
      "[nltk_data]   Package stopwords is already up-to-date!\n"
     ]
    },
    {
     "data": {
      "text/plain": [
       "True"
      ]
     },
     "execution_count": 10,
     "metadata": {},
     "output_type": "execute_result"
    }
   ],
   "source": [
    "import re\n",
    "import nltk\n",
    "nltk.download('stopwords')"
   ]
  },
  {
   "cell_type": "code",
   "execution_count": 11,
   "id": "0cf4bb87",
   "metadata": {},
   "outputs": [],
   "source": [
    "from nltk.corpus import stopwords\n",
    "from nltk.stem.porter import PorterStemmer #to find the root word"
   ]
  },
  {
   "cell_type": "code",
   "execution_count": 12,
   "id": "bc6eafb1",
   "metadata": {},
   "outputs": [],
   "source": [
    "ps = PorterStemmer()\n",
    "corpus = []"
   ]
  },
  {
   "cell_type": "code",
   "execution_count": 13,
   "id": "e2b506c5",
   "metadata": {},
   "outputs": [],
   "source": [
    "for i in range (0,len(messages)):\n",
    "    # Cleaning special character from the reviews\n",
    "    feedback = re.sub('[^a-zA-Z]',' ',str(messages['text'][i]))\n",
    "    \n",
    "    # Converting the entire review into lower case\n",
    "    feedback = feedback.lower()\n",
    "    \n",
    "    # Tokenizing the review by words\n",
    "    feedback_words = feedback.split()\n",
    "    \n",
    "    # Stemming the words and removing the stopwords\n",
    "    feedback = [ps.stem(word) for word in feedback_words if not word in set(stopwords.words('english')) ]\n",
    "    \n",
    "    # Joining the stemmed words\n",
    "    feedback = ' '.join(feedback)\n",
    "\n",
    "    # Creating a corpus\n",
    "    corpus.append(feedback)"
   ]
  },
  {
   "cell_type": "code",
   "execution_count": 14,
   "id": "0f974508",
   "metadata": {},
   "outputs": [
    {
     "data": {
      "text/plain": [
       "['display excel camera good year',\n",
       " 'batteri life also great',\n",
       " 'protect phone side',\n",
       " 'clear skype call long batteri life long rang',\n",
       " 'great hand free devic',\n",
       " 'even take self portrait outsid exterior display cool',\n",
       " 'tri mani mani handsfre gadget one final work well',\n",
       " 'magic help',\n",
       " 'best phone market',\n",
       " 'work well']"
      ]
     },
     "execution_count": 14,
     "metadata": {},
     "output_type": "execute_result"
    }
   ],
   "source": [
    "corpus[0:10]"
   ]
  },
  {
   "cell_type": "code",
   "execution_count": 15,
   "id": "80efb902",
   "metadata": {},
   "outputs": [],
   "source": [
    "# Creating the Bag of Words model\n",
    "from sklearn.feature_extraction.text import CountVectorizer\n",
    "cv = CountVectorizer(max_features=1500)\n",
    "X = cv.fit_transform(corpus).toarray()\n",
    "y = messages['target'].values"
   ]
  },
  {
   "cell_type": "code",
   "execution_count": 16,
   "id": "d81f0f81",
   "metadata": {},
   "outputs": [
    {
     "data": {
      "text/plain": [
       "(5200, 1500)"
      ]
     },
     "execution_count": 16,
     "metadata": {},
     "output_type": "execute_result"
    }
   ],
   "source": [
    "X.shape"
   ]
  },
  {
   "cell_type": "code",
   "execution_count": 17,
   "id": "6665da9c",
   "metadata": {},
   "outputs": [
    {
     "data": {
      "text/plain": [
       "(5200,)"
      ]
     },
     "execution_count": 17,
     "metadata": {},
     "output_type": "execute_result"
    }
   ],
   "source": [
    "y.shape"
   ]
  },
  {
   "cell_type": "markdown",
   "id": "076481e9",
   "metadata": {},
   "source": [
    "# Training Model"
   ]
  },
  {
   "cell_type": "code",
   "execution_count": 18,
   "id": "b3b2a2a1",
   "metadata": {},
   "outputs": [],
   "source": [
    "from sklearn.model_selection import train_test_split\n",
    "from sklearn.metrics import classification_report\n",
    "\n",
    "X_train, X_test, y_train, y_test = train_test_split(X, y, test_size = 0.20, random_state = 0)"
   ]
  },
  {
   "cell_type": "markdown",
   "id": "d93dcefd",
   "metadata": {},
   "source": [
    "# Naive Bayes (MulitinomialNB)"
   ]
  },
  {
   "cell_type": "code",
   "execution_count": 19,
   "id": "74d6d7cf",
   "metadata": {},
   "outputs": [
    {
     "data": {
      "text/plain": [
       "MultinomialNB()"
      ]
     },
     "execution_count": 19,
     "metadata": {},
     "output_type": "execute_result"
    }
   ],
   "source": [
    "# Fitting Naive Bayes to the Training set\n",
    "from sklearn.naive_bayes import MultinomialNB\n",
    "classifier = MultinomialNB()\n",
    "classifier.fit(X_train, y_train)"
   ]
  },
  {
   "cell_type": "code",
   "execution_count": 20,
   "id": "a6d3f346",
   "metadata": {},
   "outputs": [],
   "source": [
    "# Predicting the Test set results\n",
    "y_pred = classifier.predict(X_test)"
   ]
  },
  {
   "cell_type": "code",
   "execution_count": 21,
   "id": "3b068c75",
   "metadata": {},
   "outputs": [
    {
     "name": "stdout",
     "output_type": "stream",
     "text": [
      "              precision    recall  f1-score   support\n",
      "\n",
      "    negative       0.84      0.79      0.81       529\n",
      "    positive       0.79      0.84      0.82       511\n",
      "\n",
      "    accuracy                           0.81      1040\n",
      "   macro avg       0.82      0.81      0.81      1040\n",
      "weighted avg       0.82      0.81      0.81      1040\n",
      "\n"
     ]
    }
   ],
   "source": [
    "print(classification_report(y_test, y_pred))"
   ]
  },
  {
   "cell_type": "code",
   "execution_count": 22,
   "id": "e3ead045",
   "metadata": {},
   "outputs": [
    {
     "name": "stdout",
     "output_type": "stream",
     "text": [
      "---- Scores ----\n",
      "Accuracy score is: 81.44%\n"
     ]
    }
   ],
   "source": [
    "# Accuracy\n",
    "from sklearn.metrics import accuracy_score\n",
    "score1 = accuracy_score(y_test,y_pred)\n",
    "print(\"---- Scores ----\")\n",
    "print(\"Accuracy score is: {}%\".format(round(score1*100,2)))"
   ]
  },
  {
   "cell_type": "code",
   "execution_count": 23,
   "id": "bf940251",
   "metadata": {},
   "outputs": [
    {
     "data": {
      "text/plain": [
       "array([[417, 112],\n",
       "       [ 81, 430]], dtype=int64)"
      ]
     },
     "execution_count": 23,
     "metadata": {},
     "output_type": "execute_result"
    }
   ],
   "source": [
    "# Making the Confusion Matrix\n",
    "from sklearn.metrics import confusion_matrix\n",
    "cm = confusion_matrix(y_test, y_pred)\n",
    "cm"
   ]
  },
  {
   "cell_type": "code",
   "execution_count": 24,
   "id": "1bfb7db1",
   "metadata": {},
   "outputs": [
    {
     "name": "stdout",
     "output_type": "stream",
     "text": [
      "Accuracy score for alpha=0.1 is: 80.58%\n",
      "Accuracy score for alpha=0.2 is: 80.58%\n",
      "Accuracy score for alpha=0.3 is: 80.87%\n",
      "Accuracy score for alpha=0.4 is: 81.06%\n",
      "Accuracy score for alpha=0.5 is: 81.25%\n",
      "Accuracy score for alpha=0.6 is: 80.96%\n",
      "Accuracy score for alpha=0.7 is: 81.06%\n",
      "Accuracy score for alpha=0.8 is: 81.25%\n",
      "Accuracy score for alpha=0.9 is: 81.35%\n",
      "Accuracy score for alpha=1.0 is: 81.44%\n",
      "--------------------------------------------\n",
      "The best accuracy is 81.44% with alpha value as 1.0\n"
     ]
    }
   ],
   "source": [
    "# Hyperparameter tuning the Naive Bayes Classifier\n",
    "best_accuracy = 0.0\n",
    "alpha_val = 0.0\n",
    "for i in np.arange(0.1,1.1,0.1):\n",
    "  temp_classifier = MultinomialNB(alpha=i)\n",
    "  temp_classifier.fit(X_train, y_train)\n",
    "  temp_y_pred = temp_classifier.predict(X_test)\n",
    "  score = accuracy_score(y_test, temp_y_pred)\n",
    "  print(\"Accuracy score for alpha={} is: {}%\".format(round(i,1), round(score*100,2)))\n",
    "  if score>best_accuracy:\n",
    "    best_accuracy = score\n",
    "    alpha_val = i\n",
    "print('--------------------------------------------')\n",
    "print('The best accuracy is {}% with alpha value as {}'.format(round(best_accuracy*100, 2), round(alpha_val,1)))"
   ]
  },
  {
   "cell_type": "markdown",
   "id": "b56ffd64",
   "metadata": {},
   "source": [
    "# Support Vector Machine Classifier"
   ]
  },
  {
   "cell_type": "code",
   "execution_count": 25,
   "id": "3581a5b4",
   "metadata": {},
   "outputs": [
    {
     "data": {
      "text/plain": [
       "SVC()"
      ]
     },
     "execution_count": 25,
     "metadata": {},
     "output_type": "execute_result"
    }
   ],
   "source": [
    "from sklearn.svm import SVC\n",
    "model = SVC()\n",
    "model.fit(X_train, y_train)"
   ]
  },
  {
   "cell_type": "code",
   "execution_count": 26,
   "id": "eded826a",
   "metadata": {},
   "outputs": [],
   "source": [
    "# Predicting the Test set results\n",
    "y_pred = model.predict(X_test)"
   ]
  },
  {
   "cell_type": "code",
   "execution_count": 27,
   "id": "10f5bc03",
   "metadata": {},
   "outputs": [
    {
     "name": "stdout",
     "output_type": "stream",
     "text": [
      "              precision    recall  f1-score   support\n",
      "\n",
      "    negative       0.80      0.91      0.85       529\n",
      "    positive       0.89      0.76      0.82       511\n",
      "\n",
      "    accuracy                           0.84      1040\n",
      "   macro avg       0.84      0.83      0.83      1040\n",
      "weighted avg       0.84      0.84      0.83      1040\n",
      "\n"
     ]
    }
   ],
   "source": [
    "from sklearn.metrics import classification_report\n",
    "print(classification_report(y_test, y_pred))"
   ]
  },
  {
   "cell_type": "code",
   "execution_count": 28,
   "id": "7e2810ab",
   "metadata": {
    "scrolled": true
   },
   "outputs": [
    {
     "name": "stdout",
     "output_type": "stream",
     "text": [
      "---- Scores ----\n",
      "Accuracy score is: 83.56%\n"
     ]
    }
   ],
   "source": [
    "# Accuracy\n",
    "from sklearn.metrics import accuracy_score\n",
    "score1 = accuracy_score(y_test,y_pred)\n",
    "print(\"---- Scores ----\")\n",
    "print(\"Accuracy score is: {}%\".format(round(score1*100,2)))"
   ]
  },
  {
   "cell_type": "code",
   "execution_count": 29,
   "id": "606d9207",
   "metadata": {},
   "outputs": [
    {
     "data": {
      "text/plain": [
       "array([[480,  49],\n",
       "       [122, 389]], dtype=int64)"
      ]
     },
     "execution_count": 29,
     "metadata": {},
     "output_type": "execute_result"
    }
   ],
   "source": [
    "# Making the Confusion Matrix\n",
    "from sklearn.metrics import confusion_matrix\n",
    "cm = confusion_matrix(y_test, y_pred)\n",
    "cm"
   ]
  },
  {
   "cell_type": "code",
   "execution_count": 30,
   "id": "128270f7",
   "metadata": {},
   "outputs": [
    {
     "name": "stdout",
     "output_type": "stream",
     "text": [
      "Fitting 5 folds for each of 25 candidates, totalling 125 fits\n",
      "[CV 1/5] END .....................C=0.1, gamma=1, kernel=rbf; total time=  12.6s\n",
      "[CV 2/5] END .....................C=0.1, gamma=1, kernel=rbf; total time=  11.9s\n",
      "[CV 3/5] END .....................C=0.1, gamma=1, kernel=rbf; total time=  12.2s\n",
      "[CV 4/5] END .....................C=0.1, gamma=1, kernel=rbf; total time=  11.8s\n",
      "[CV 5/5] END .....................C=0.1, gamma=1, kernel=rbf; total time=  12.4s\n",
      "[CV 1/5] END ...................C=0.1, gamma=0.1, kernel=rbf; total time=  12.4s\n",
      "[CV 2/5] END ...................C=0.1, gamma=0.1, kernel=rbf; total time=  11.5s\n",
      "[CV 3/5] END ...................C=0.1, gamma=0.1, kernel=rbf; total time=  11.6s\n",
      "[CV 4/5] END ...................C=0.1, gamma=0.1, kernel=rbf; total time=  11.7s\n",
      "[CV 5/5] END ...................C=0.1, gamma=0.1, kernel=rbf; total time=  11.6s\n",
      "[CV 1/5] END ..................C=0.1, gamma=0.01, kernel=rbf; total time=  13.8s\n",
      "[CV 2/5] END ..................C=0.1, gamma=0.01, kernel=rbf; total time=  14.0s\n",
      "[CV 3/5] END ..................C=0.1, gamma=0.01, kernel=rbf; total time=  13.9s\n",
      "[CV 4/5] END ..................C=0.1, gamma=0.01, kernel=rbf; total time=  13.8s\n",
      "[CV 5/5] END ..................C=0.1, gamma=0.01, kernel=rbf; total time=  13.9s\n",
      "[CV 1/5] END .................C=0.1, gamma=0.001, kernel=rbf; total time=  13.9s\n",
      "[CV 2/5] END .................C=0.1, gamma=0.001, kernel=rbf; total time=  13.9s\n",
      "[CV 3/5] END .................C=0.1, gamma=0.001, kernel=rbf; total time=  14.0s\n",
      "[CV 4/5] END .................C=0.1, gamma=0.001, kernel=rbf; total time=  13.8s\n",
      "[CV 5/5] END .................C=0.1, gamma=0.001, kernel=rbf; total time=  13.9s\n",
      "[CV 1/5] END ................C=0.1, gamma=0.0001, kernel=rbf; total time=  13.9s\n",
      "[CV 2/5] END ................C=0.1, gamma=0.0001, kernel=rbf; total time=  13.8s\n",
      "[CV 3/5] END ................C=0.1, gamma=0.0001, kernel=rbf; total time=  13.7s\n",
      "[CV 4/5] END ................C=0.1, gamma=0.0001, kernel=rbf; total time=  14.4s\n",
      "[CV 5/5] END ................C=0.1, gamma=0.0001, kernel=rbf; total time=  13.9s\n",
      "[CV 1/5] END .......................C=1, gamma=1, kernel=rbf; total time=  10.7s\n",
      "[CV 2/5] END .......................C=1, gamma=1, kernel=rbf; total time=  10.3s\n",
      "[CV 3/5] END .......................C=1, gamma=1, kernel=rbf; total time=  10.3s\n",
      "[CV 4/5] END .......................C=1, gamma=1, kernel=rbf; total time=  10.5s\n",
      "[CV 5/5] END .......................C=1, gamma=1, kernel=rbf; total time=  10.4s\n",
      "[CV 1/5] END .....................C=1, gamma=0.1, kernel=rbf; total time=   9.5s\n",
      "[CV 2/5] END .....................C=1, gamma=0.1, kernel=rbf; total time=   9.3s\n",
      "[CV 3/5] END .....................C=1, gamma=0.1, kernel=rbf; total time=   9.4s\n",
      "[CV 4/5] END .....................C=1, gamma=0.1, kernel=rbf; total time=   9.5s\n",
      "[CV 5/5] END .....................C=1, gamma=0.1, kernel=rbf; total time=   9.4s\n",
      "[CV 1/5] END ....................C=1, gamma=0.01, kernel=rbf; total time=  11.2s\n",
      "[CV 2/5] END ....................C=1, gamma=0.01, kernel=rbf; total time=  11.2s\n",
      "[CV 3/5] END ....................C=1, gamma=0.01, kernel=rbf; total time=  11.1s\n",
      "[CV 4/5] END ....................C=1, gamma=0.01, kernel=rbf; total time=  11.4s\n",
      "[CV 5/5] END ....................C=1, gamma=0.01, kernel=rbf; total time=  11.5s\n",
      "[CV 1/5] END ...................C=1, gamma=0.001, kernel=rbf; total time=  13.6s\n",
      "[CV 2/5] END ...................C=1, gamma=0.001, kernel=rbf; total time=  13.7s\n",
      "[CV 3/5] END ...................C=1, gamma=0.001, kernel=rbf; total time=  13.7s\n",
      "[CV 4/5] END ...................C=1, gamma=0.001, kernel=rbf; total time=  14.0s\n",
      "[CV 5/5] END ...................C=1, gamma=0.001, kernel=rbf; total time=  13.7s\n",
      "[CV 1/5] END ..................C=1, gamma=0.0001, kernel=rbf; total time=  13.7s\n",
      "[CV 2/5] END ..................C=1, gamma=0.0001, kernel=rbf; total time=  14.1s\n",
      "[CV 3/5] END ..................C=1, gamma=0.0001, kernel=rbf; total time=  13.7s\n",
      "[CV 4/5] END ..................C=1, gamma=0.0001, kernel=rbf; total time=  13.7s\n",
      "[CV 5/5] END ..................C=1, gamma=0.0001, kernel=rbf; total time=  13.7s\n",
      "[CV 1/5] END ......................C=10, gamma=1, kernel=rbf; total time=  10.4s\n",
      "[CV 2/5] END ......................C=10, gamma=1, kernel=rbf; total time=  10.2s\n",
      "[CV 3/5] END ......................C=10, gamma=1, kernel=rbf; total time=  10.1s\n",
      "[CV 4/5] END ......................C=10, gamma=1, kernel=rbf; total time=  10.1s\n",
      "[CV 5/5] END ......................C=10, gamma=1, kernel=rbf; total time=  10.3s\n",
      "[CV 1/5] END ....................C=10, gamma=0.1, kernel=rbf; total time=   9.4s\n",
      "[CV 2/5] END ....................C=10, gamma=0.1, kernel=rbf; total time=   9.3s\n",
      "[CV 3/5] END ....................C=10, gamma=0.1, kernel=rbf; total time=   9.3s\n",
      "[CV 4/5] END ....................C=10, gamma=0.1, kernel=rbf; total time=   9.5s\n",
      "[CV 5/5] END ....................C=10, gamma=0.1, kernel=rbf; total time=  10.7s\n",
      "[CV 1/5] END ...................C=10, gamma=0.01, kernel=rbf; total time=   8.3s\n",
      "[CV 2/5] END ...................C=10, gamma=0.01, kernel=rbf; total time=   8.3s\n",
      "[CV 3/5] END ...................C=10, gamma=0.01, kernel=rbf; total time=   8.3s\n",
      "[CV 4/5] END ...................C=10, gamma=0.01, kernel=rbf; total time=   8.3s\n",
      "[CV 5/5] END ...................C=10, gamma=0.01, kernel=rbf; total time=   8.2s\n",
      "[CV 1/5] END ..................C=10, gamma=0.001, kernel=rbf; total time=  11.3s\n",
      "[CV 2/5] END ..................C=10, gamma=0.001, kernel=rbf; total time=  11.1s\n",
      "[CV 3/5] END ..................C=10, gamma=0.001, kernel=rbf; total time=  11.1s\n",
      "[CV 4/5] END ..................C=10, gamma=0.001, kernel=rbf; total time=  11.3s\n",
      "[CV 5/5] END ..................C=10, gamma=0.001, kernel=rbf; total time=  11.2s\n",
      "[CV 1/5] END .................C=10, gamma=0.0001, kernel=rbf; total time=  13.8s\n",
      "[CV 2/5] END .................C=10, gamma=0.0001, kernel=rbf; total time=  13.6s\n",
      "[CV 3/5] END .................C=10, gamma=0.0001, kernel=rbf; total time=  13.7s\n",
      "[CV 4/5] END .................C=10, gamma=0.0001, kernel=rbf; total time=  13.7s\n",
      "[CV 5/5] END .................C=10, gamma=0.0001, kernel=rbf; total time=  13.6s\n",
      "[CV 1/5] END .....................C=100, gamma=1, kernel=rbf; total time=  10.3s\n",
      "[CV 2/5] END .....................C=100, gamma=1, kernel=rbf; total time=  10.1s\n",
      "[CV 3/5] END .....................C=100, gamma=1, kernel=rbf; total time=  10.0s\n",
      "[CV 4/5] END .....................C=100, gamma=1, kernel=rbf; total time=  10.0s\n",
      "[CV 5/5] END .....................C=100, gamma=1, kernel=rbf; total time=  10.2s\n",
      "[CV 1/5] END ...................C=100, gamma=0.1, kernel=rbf; total time=   9.1s\n",
      "[CV 2/5] END ...................C=100, gamma=0.1, kernel=rbf; total time=   9.1s\n",
      "[CV 3/5] END ...................C=100, gamma=0.1, kernel=rbf; total time=   9.7s\n",
      "[CV 4/5] END ...................C=100, gamma=0.1, kernel=rbf; total time=   9.8s\n",
      "[CV 5/5] END ...................C=100, gamma=0.1, kernel=rbf; total time=   9.0s\n",
      "[CV 1/5] END ..................C=100, gamma=0.01, kernel=rbf; total time=   6.6s\n",
      "[CV 2/5] END ..................C=100, gamma=0.01, kernel=rbf; total time=   6.6s\n",
      "[CV 3/5] END ..................C=100, gamma=0.01, kernel=rbf; total time=   6.6s\n",
      "[CV 4/5] END ..................C=100, gamma=0.01, kernel=rbf; total time=   6.7s\n",
      "[CV 5/5] END ..................C=100, gamma=0.01, kernel=rbf; total time=   6.5s\n",
      "[CV 1/5] END .................C=100, gamma=0.001, kernel=rbf; total time=   8.2s\n",
      "[CV 2/5] END .................C=100, gamma=0.001, kernel=rbf; total time=   8.2s\n",
      "[CV 3/5] END .................C=100, gamma=0.001, kernel=rbf; total time=   8.2s\n",
      "[CV 4/5] END .................C=100, gamma=0.001, kernel=rbf; total time=   8.3s\n",
      "[CV 5/5] END .................C=100, gamma=0.001, kernel=rbf; total time=   8.2s\n",
      "[CV 1/5] END ................C=100, gamma=0.0001, kernel=rbf; total time=  11.3s\n",
      "[CV 2/5] END ................C=100, gamma=0.0001, kernel=rbf; total time=  11.0s\n",
      "[CV 3/5] END ................C=100, gamma=0.0001, kernel=rbf; total time=  11.1s\n",
      "[CV 4/5] END ................C=100, gamma=0.0001, kernel=rbf; total time=  11.4s\n",
      "[CV 5/5] END ................C=100, gamma=0.0001, kernel=rbf; total time=  11.2s\n",
      "[CV 1/5] END ....................C=1000, gamma=1, kernel=rbf; total time=  10.3s\n"
     ]
    },
    {
     "name": "stdout",
     "output_type": "stream",
     "text": [
      "[CV 2/5] END ....................C=1000, gamma=1, kernel=rbf; total time=  10.1s\n",
      "[CV 3/5] END ....................C=1000, gamma=1, kernel=rbf; total time=  10.0s\n",
      "[CV 4/5] END ....................C=1000, gamma=1, kernel=rbf; total time=  10.0s\n",
      "[CV 5/5] END ....................C=1000, gamma=1, kernel=rbf; total time=  10.1s\n",
      "[CV 1/5] END ..................C=1000, gamma=0.1, kernel=rbf; total time=   9.0s\n",
      "[CV 2/5] END ..................C=1000, gamma=0.1, kernel=rbf; total time=   8.9s\n",
      "[CV 3/5] END ..................C=1000, gamma=0.1, kernel=rbf; total time=   8.7s\n",
      "[CV 4/5] END ..................C=1000, gamma=0.1, kernel=rbf; total time=   9.0s\n",
      "[CV 5/5] END ..................C=1000, gamma=0.1, kernel=rbf; total time=   8.8s\n",
      "[CV 1/5] END .................C=1000, gamma=0.01, kernel=rbf; total time=   6.9s\n",
      "[CV 2/5] END .................C=1000, gamma=0.01, kernel=rbf; total time=   6.3s\n",
      "[CV 3/5] END .................C=1000, gamma=0.01, kernel=rbf; total time=   6.3s\n",
      "[CV 4/5] END .................C=1000, gamma=0.01, kernel=rbf; total time=   6.4s\n",
      "[CV 5/5] END .................C=1000, gamma=0.01, kernel=rbf; total time=   6.1s\n",
      "[CV 1/5] END ................C=1000, gamma=0.001, kernel=rbf; total time=   6.5s\n",
      "[CV 2/5] END ................C=1000, gamma=0.001, kernel=rbf; total time=   6.6s\n",
      "[CV 3/5] END ................C=1000, gamma=0.001, kernel=rbf; total time=   6.7s\n",
      "[CV 4/5] END ................C=1000, gamma=0.001, kernel=rbf; total time=   6.9s\n",
      "[CV 5/5] END ................C=1000, gamma=0.001, kernel=rbf; total time=   6.6s\n",
      "[CV 1/5] END ...............C=1000, gamma=0.0001, kernel=rbf; total time=   8.2s\n",
      "[CV 2/5] END ...............C=1000, gamma=0.0001, kernel=rbf; total time=   8.2s\n",
      "[CV 3/5] END ...............C=1000, gamma=0.0001, kernel=rbf; total time=   8.3s\n",
      "[CV 4/5] END ...............C=1000, gamma=0.0001, kernel=rbf; total time=   8.3s\n",
      "[CV 5/5] END ...............C=1000, gamma=0.0001, kernel=rbf; total time=   8.2s\n"
     ]
    },
    {
     "data": {
      "text/plain": [
       "GridSearchCV(estimator=SVC(),\n",
       "             param_grid={'C': [0.1, 1, 10, 100, 1000],\n",
       "                         'gamma': [1, 0.1, 0.01, 0.001, 0.0001],\n",
       "                         'kernel': ['rbf']},\n",
       "             verbose=3)"
      ]
     },
     "execution_count": 30,
     "metadata": {},
     "output_type": "execute_result"
    }
   ],
   "source": [
    "from sklearn.model_selection import GridSearchCV\n",
    "\n",
    "# defining parameter range\n",
    "param_grid = {'C': [0.1, 1, 10, 100, 1000],\n",
    "\t\t\t'gamma': [1, 0.1, 0.01, 0.001, 0.0001],\n",
    "\t\t\t'kernel': ['rbf']}\n",
    "\n",
    "grid = GridSearchCV(SVC(), param_grid, refit = True, verbose = 3)\n",
    "\n",
    "# fitting the model for grid search\n",
    "grid.fit(X_train, y_train)\n"
   ]
  },
  {
   "cell_type": "code",
   "execution_count": 31,
   "id": "466f51e7",
   "metadata": {},
   "outputs": [
    {
     "name": "stdout",
     "output_type": "stream",
     "text": [
      "{'C': 10, 'gamma': 0.1, 'kernel': 'rbf'}\n",
      "SVC(C=10, gamma=0.1)\n"
     ]
    }
   ],
   "source": [
    "# print best parameter after tuning\n",
    "print(grid.best_params_)\n",
    " \n",
    "# print how our model looks after hyper-parameter tuning\n",
    "print(grid.best_estimator_)"
   ]
  },
  {
   "cell_type": "code",
   "execution_count": 32,
   "id": "2598880b",
   "metadata": {},
   "outputs": [
    {
     "name": "stdout",
     "output_type": "stream",
     "text": [
      "              precision    recall  f1-score   support\n",
      "\n",
      "    negative       0.84      0.88      0.86       529\n",
      "    positive       0.87      0.82      0.85       511\n",
      "\n",
      "    accuracy                           0.85      1040\n",
      "   macro avg       0.85      0.85      0.85      1040\n",
      "weighted avg       0.85      0.85      0.85      1040\n",
      "\n"
     ]
    }
   ],
   "source": [
    "grid_predictions = grid.predict(X_test)\n",
    "# print classification report\n",
    "print(classification_report(y_test, grid_predictions))"
   ]
  },
  {
   "cell_type": "markdown",
   "id": "9ea8a6e2",
   "metadata": {},
   "source": [
    "# Logistic Regression"
   ]
  },
  {
   "cell_type": "code",
   "execution_count": 47,
   "id": "47cc87e0",
   "metadata": {},
   "outputs": [
    {
     "data": {
      "text/plain": [
       "LogisticRegression()"
      ]
     },
     "execution_count": 47,
     "metadata": {},
     "output_type": "execute_result"
    }
   ],
   "source": [
    "# Fitting Logistic Regression to the Training set\n",
    "from sklearn.linear_model import LogisticRegression\n",
    "log_reg = LogisticRegression()\n",
    "log_reg.fit(X_train, y_train)"
   ]
  },
  {
   "cell_type": "code",
   "execution_count": 34,
   "id": "eaaca7e2",
   "metadata": {},
   "outputs": [],
   "source": [
    "# Predicting the Test set results\n",
    "y_pred = log_reg.predict(X_test)"
   ]
  },
  {
   "cell_type": "code",
   "execution_count": 35,
   "id": "1caba88f",
   "metadata": {},
   "outputs": [
    {
     "name": "stdout",
     "output_type": "stream",
     "text": [
      "              precision    recall  f1-score   support\n",
      "\n",
      "    negative       0.82      0.82      0.82       529\n",
      "    positive       0.81      0.81      0.81       511\n",
      "\n",
      "    accuracy                           0.82      1040\n",
      "   macro avg       0.82      0.82      0.82      1040\n",
      "weighted avg       0.82      0.82      0.82      1040\n",
      "\n"
     ]
    }
   ],
   "source": [
    "from sklearn.metrics import classification_report\n",
    "print(classification_report(y_test, y_pred))"
   ]
  },
  {
   "cell_type": "code",
   "execution_count": 36,
   "id": "7417467c",
   "metadata": {},
   "outputs": [
    {
     "name": "stdout",
     "output_type": "stream",
     "text": [
      "---- Scores ----\n",
      "Accuracy score is: 81.63%\n"
     ]
    }
   ],
   "source": [
    "# Accuracy\n",
    "from sklearn.metrics import accuracy_score\n",
    "score_lg = accuracy_score(y_test,y_pred)\n",
    "print(\"---- Scores ----\")\n",
    "print(\"Accuracy score is: {}%\".format(round(score_lg*100,2)))"
   ]
  },
  {
   "cell_type": "code",
   "execution_count": 37,
   "id": "4389e679",
   "metadata": {},
   "outputs": [
    {
     "data": {
      "text/plain": [
       "array([[433,  96],\n",
       "       [ 95, 416]], dtype=int64)"
      ]
     },
     "execution_count": 37,
     "metadata": {},
     "output_type": "execute_result"
    }
   ],
   "source": [
    "# Making the Confusion Matrix\n",
    "from sklearn.metrics import confusion_matrix\n",
    "cm = confusion_matrix(y_test, y_pred)\n",
    "cm"
   ]
  },
  {
   "cell_type": "code",
   "execution_count": 57,
   "id": "aca91d7a",
   "metadata": {
    "scrolled": true
   },
   "outputs": [
    {
     "name": "stderr",
     "output_type": "stream",
     "text": [
      "D:\\Software\\Anaconda\\lib\\site-packages\\sklearn\\model_selection\\_search.py:918: UserWarning: One or more of the test scores are non-finite: [       nan 0.72147436        nan 0.80128205        nan 0.82027244\n",
      "        nan 0.82011218        nan 0.80777244]\n",
      "  warnings.warn(\n"
     ]
    },
    {
     "data": {
      "text/plain": [
       "GridSearchCV(cv=RepeatedStratifiedKFold(n_repeats=3, n_splits=10, random_state=1),\n",
       "             estimator=LogisticRegression(), n_jobs=-1,\n",
       "             param_grid={'C': [0.01, 0.1, 1, 10, 100], 'penalty': ['l1', 'l2'],\n",
       "                         'solver': ['lbfgs']},\n",
       "             scoring='accuracy')"
      ]
     },
     "execution_count": 57,
     "metadata": {},
     "output_type": "execute_result"
    }
   ],
   "source": [
    "from sklearn.model_selection import GridSearchCV\n",
    "from sklearn.model_selection import RepeatedStratifiedKFold\n",
    "\n",
    "cv = RepeatedStratifiedKFold(n_splits=10, n_repeats=3, random_state=1)\n",
    "# defining parameter range\n",
    "param_grid = {'solver': ['lbfgs'],\n",
    "\t\t\t'penalty': ['l1', 'l2'],\n",
    "\t\t\t'C': [0.01, 0.1, 1, 10, 100]}\n",
    "\n",
    "grid = GridSearchCV(log_reg, param_grid, scoring='accuracy', n_jobs=-1, cv=cv)\n",
    "\n",
    "# fitting the model for grid search\n",
    "grid.fit(X_train, y_train)"
   ]
  },
  {
   "cell_type": "code",
   "execution_count": 49,
   "id": "05519b90",
   "metadata": {},
   "outputs": [
    {
     "name": "stdout",
     "output_type": "stream",
     "text": [
      "{'C': 1, 'penalty': 'l2', 'solver': 'newton-cg'}\n",
      "LogisticRegression(C=1, solver='newton-cg')\n"
     ]
    }
   ],
   "source": [
    "# print best parameter after tuning\n",
    "print(grid.best_params_)\n",
    " \n",
    "# print how our model looks after hyper-parameter tuning\n",
    "print(grid.best_estimator_)"
   ]
  },
  {
   "cell_type": "code",
   "execution_count": 50,
   "id": "13379496",
   "metadata": {},
   "outputs": [
    {
     "name": "stdout",
     "output_type": "stream",
     "text": [
      "              precision    recall  f1-score   support\n",
      "\n",
      "    negative       0.82      0.82      0.82       529\n",
      "    positive       0.81      0.81      0.81       511\n",
      "\n",
      "    accuracy                           0.82      1040\n",
      "   macro avg       0.82      0.82      0.82      1040\n",
      "weighted avg       0.82      0.82      0.82      1040\n",
      "\n"
     ]
    }
   ],
   "source": [
    "grid_predictions_lg = grid.predict(X_test)\n",
    "# print classification report\n",
    "print(classification_report(y_test, grid_predictions_lg))"
   ]
  },
  {
   "cell_type": "markdown",
   "id": "03cadef0",
   "metadata": {},
   "source": [
    "# Random Forest"
   ]
  },
  {
   "cell_type": "code",
   "execution_count": 51,
   "id": "f2caae51",
   "metadata": {},
   "outputs": [
    {
     "data": {
      "text/plain": [
       "RandomForestClassifier()"
      ]
     },
     "execution_count": 51,
     "metadata": {},
     "output_type": "execute_result"
    }
   ],
   "source": [
    "from sklearn.ensemble import RandomForestClassifier\n",
    "model = RandomForestClassifier()\n",
    "model.fit(X_train, y_train)"
   ]
  },
  {
   "cell_type": "code",
   "execution_count": 52,
   "id": "04017843",
   "metadata": {},
   "outputs": [],
   "source": [
    "# Predicting the Test set results\n",
    "y_pred = model.predict(X_test)"
   ]
  },
  {
   "cell_type": "code",
   "execution_count": 53,
   "id": "9e2b2526",
   "metadata": {},
   "outputs": [
    {
     "name": "stdout",
     "output_type": "stream",
     "text": [
      "              precision    recall  f1-score   support\n",
      "\n",
      "    negative       0.84      0.84      0.84       529\n",
      "    positive       0.83      0.84      0.83       511\n",
      "\n",
      "    accuracy                           0.84      1040\n",
      "   macro avg       0.84      0.84      0.84      1040\n",
      "weighted avg       0.84      0.84      0.84      1040\n",
      "\n"
     ]
    }
   ],
   "source": [
    "print(classification_report(y_test, y_pred))"
   ]
  },
  {
   "cell_type": "code",
   "execution_count": 54,
   "id": "74262237",
   "metadata": {},
   "outputs": [
    {
     "name": "stdout",
     "output_type": "stream",
     "text": [
      "---- Scores ----\n",
      "Accuracy score is: 83.75%\n"
     ]
    }
   ],
   "source": [
    "# Accuracy\n",
    "from sklearn.metrics import accuracy_score\n",
    "score = accuracy_score(y_test,y_pred)\n",
    "print(\"---- Scores ----\")\n",
    "print(\"Accuracy score is: {}%\".format(round(score*100,2)))"
   ]
  },
  {
   "cell_type": "code",
   "execution_count": 55,
   "id": "2fadb0df",
   "metadata": {},
   "outputs": [
    {
     "data": {
      "text/plain": [
       "array([[444,  85],\n",
       "       [ 84, 427]], dtype=int64)"
      ]
     },
     "execution_count": 55,
     "metadata": {},
     "output_type": "execute_result"
    }
   ],
   "source": [
    "# Making the Confusion Matrix\n",
    "from sklearn.metrics import confusion_matrix\n",
    "cm = confusion_matrix(y_test, y_pred)\n",
    "cm"
   ]
  },
  {
   "cell_type": "code",
   "execution_count": 56,
   "id": "005c76ae",
   "metadata": {},
   "outputs": [
    {
     "name": "stdout",
     "output_type": "stream",
     "text": [
      "Fitting 5 folds for each of 6 candidates, totalling 30 fits\n",
      "[CV 1/5] END .............max_features=sqrt, n_estimators=10; total time=   0.7s\n",
      "[CV 2/5] END .............max_features=sqrt, n_estimators=10; total time=   0.7s\n",
      "[CV 3/5] END .............max_features=sqrt, n_estimators=10; total time=   0.7s\n",
      "[CV 4/5] END .............max_features=sqrt, n_estimators=10; total time=   0.7s\n",
      "[CV 5/5] END .............max_features=sqrt, n_estimators=10; total time=   0.6s\n",
      "[CV 1/5] END ............max_features=sqrt, n_estimators=100; total time=   6.5s\n",
      "[CV 2/5] END ............max_features=sqrt, n_estimators=100; total time=   6.5s\n",
      "[CV 3/5] END ............max_features=sqrt, n_estimators=100; total time=   6.6s\n",
      "[CV 4/5] END ............max_features=sqrt, n_estimators=100; total time=   6.9s\n",
      "[CV 5/5] END ............max_features=sqrt, n_estimators=100; total time=   6.6s\n",
      "[CV 1/5] END ...........max_features=sqrt, n_estimators=1000; total time= 1.0min\n",
      "[CV 2/5] END ...........max_features=sqrt, n_estimators=1000; total time= 1.1min\n",
      "[CV 3/5] END ...........max_features=sqrt, n_estimators=1000; total time= 1.1min\n",
      "[CV 4/5] END ...........max_features=sqrt, n_estimators=1000; total time= 1.1min\n",
      "[CV 5/5] END ...........max_features=sqrt, n_estimators=1000; total time= 1.0min\n",
      "[CV 1/5] END .............max_features=log2, n_estimators=10; total time=   0.3s\n",
      "[CV 2/5] END .............max_features=log2, n_estimators=10; total time=   0.3s\n",
      "[CV 3/5] END .............max_features=log2, n_estimators=10; total time=   0.3s\n",
      "[CV 4/5] END .............max_features=log2, n_estimators=10; total time=   0.2s\n",
      "[CV 5/5] END .............max_features=log2, n_estimators=10; total time=   0.3s\n",
      "[CV 1/5] END ............max_features=log2, n_estimators=100; total time=   3.5s\n",
      "[CV 2/5] END ............max_features=log2, n_estimators=100; total time=   3.5s\n",
      "[CV 3/5] END ............max_features=log2, n_estimators=100; total time=   3.6s\n",
      "[CV 4/5] END ............max_features=log2, n_estimators=100; total time=   3.9s\n",
      "[CV 5/5] END ............max_features=log2, n_estimators=100; total time=   3.5s\n",
      "[CV 1/5] END ...........max_features=log2, n_estimators=1000; total time=  35.3s\n",
      "[CV 2/5] END ...........max_features=log2, n_estimators=1000; total time=  36.0s\n",
      "[CV 3/5] END ...........max_features=log2, n_estimators=1000; total time=  37.3s\n",
      "[CV 4/5] END ...........max_features=log2, n_estimators=1000; total time=  36.2s\n",
      "[CV 5/5] END ...........max_features=log2, n_estimators=1000; total time=  35.8s\n"
     ]
    },
    {
     "data": {
      "text/plain": [
       "GridSearchCV(estimator=RandomForestClassifier(),\n",
       "             param_grid={'max_features': ['sqrt', 'log2'],\n",
       "                         'n_estimators': [10, 100, 1000]},\n",
       "             verbose=3)"
      ]
     },
     "execution_count": 56,
     "metadata": {},
     "output_type": "execute_result"
    }
   ],
   "source": [
    "from sklearn.model_selection import GridSearchCV\n",
    "# defining parameter range\n",
    "param_grid = {'n_estimators': [10, 100, 1000],\n",
    "\t\t\t'max_features': ['sqrt', 'log2']}\n",
    "\n",
    "grid = GridSearchCV(RandomForestClassifier(), param_grid, refit = True, verbose = 3)\n",
    "\n",
    "# fitting the model for grid search\n",
    "grid.fit(X_train, y_train)"
   ]
  },
  {
   "cell_type": "code",
   "execution_count": 60,
   "id": "fb58d157",
   "metadata": {},
   "outputs": [
    {
     "name": "stdout",
     "output_type": "stream",
     "text": [
      "              precision    recall  f1-score   support\n",
      "\n",
      "    negative       0.82      0.82      0.82       529\n",
      "    positive       0.81      0.81      0.81       511\n",
      "\n",
      "    accuracy                           0.82      1040\n",
      "   macro avg       0.82      0.82      0.82      1040\n",
      "weighted avg       0.82      0.82      0.82      1040\n",
      "\n"
     ]
    }
   ],
   "source": [
    "grid_predictions_rf = grid.predict(X_test)\n",
    "# print classification report\n",
    "print(classification_report(y_test, grid_predictions_rf))"
   ]
  },
  {
   "cell_type": "code",
   "execution_count": null,
   "id": "abdcf278",
   "metadata": {},
   "outputs": [],
   "source": []
  }
 ],
 "metadata": {
  "kernelspec": {
   "display_name": "Python 3",
   "language": "python",
   "name": "python3"
  },
  "language_info": {
   "codemirror_mode": {
    "name": "ipython",
    "version": 3
   },
   "file_extension": ".py",
   "mimetype": "text/x-python",
   "name": "python",
   "nbconvert_exporter": "python",
   "pygments_lexer": "ipython3",
   "version": "3.8.8"
  }
 },
 "nbformat": 4,
 "nbformat_minor": 5
}
