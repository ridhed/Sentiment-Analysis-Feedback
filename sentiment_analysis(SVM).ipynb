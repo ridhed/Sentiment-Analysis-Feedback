{
 "cells": [
  {
   "cell_type": "code",
   "execution_count": 1,
   "id": "71e674af",
   "metadata": {},
   "outputs": [],
   "source": [
    "# Importing essential libraries\n",
    "import numpy as np\n",
    "import pandas as pd"
   ]
  },
  {
   "cell_type": "code",
   "execution_count": 2,
   "id": "1d2c70c0",
   "metadata": {},
   "outputs": [],
   "source": [
    "# Loading the dataset\n",
    "messages = pd.read_csv('feedback_dataset.csv')"
   ]
  },
  {
   "cell_type": "code",
   "execution_count": 3,
   "id": "76f2108b",
   "metadata": {},
   "outputs": [
    {
     "data": {
      "text/plain": [
       "(5200, 2)"
      ]
     },
     "execution_count": 3,
     "metadata": {},
     "output_type": "execute_result"
    }
   ],
   "source": [
    "messages.shape"
   ]
  },
  {
   "cell_type": "code",
   "execution_count": 4,
   "id": "4e1d9d09",
   "metadata": {},
   "outputs": [
    {
     "name": "stdout",
     "output_type": "stream",
     "text": [
      "<class 'pandas.core.frame.DataFrame'>\n",
      "RangeIndex: 5200 entries, 0 to 5199\n",
      "Data columns (total 2 columns):\n",
      " #   Column     Non-Null Count  Dtype \n",
      "---  ------     --------------  ----- \n",
      " 0   text       5200 non-null   object\n",
      " 1   sentiment  5200 non-null   int64 \n",
      "dtypes: int64(1), object(1)\n",
      "memory usage: 81.4+ KB\n"
     ]
    }
   ],
   "source": [
    "messages.info()"
   ]
  },
  {
   "cell_type": "code",
   "execution_count": 5,
   "id": "f25535e2",
   "metadata": {},
   "outputs": [
    {
     "data": {
      "text/plain": [
       "Index(['text', 'sentiment'], dtype='object')"
      ]
     },
     "execution_count": 5,
     "metadata": {},
     "output_type": "execute_result"
    }
   ],
   "source": [
    "messages.columns"
   ]
  },
  {
   "cell_type": "code",
   "execution_count": 6,
   "id": "54662a84",
   "metadata": {},
   "outputs": [
    {
     "data": {
      "text/html": [
       "<div>\n",
       "<style scoped>\n",
       "    .dataframe tbody tr th:only-of-type {\n",
       "        vertical-align: middle;\n",
       "    }\n",
       "\n",
       "    .dataframe tbody tr th {\n",
       "        vertical-align: top;\n",
       "    }\n",
       "\n",
       "    .dataframe thead th {\n",
       "        text-align: right;\n",
       "    }\n",
       "</style>\n",
       "<table border=\"1\" class=\"dataframe\">\n",
       "  <thead>\n",
       "    <tr style=\"text-align: right;\">\n",
       "      <th></th>\n",
       "      <th>text</th>\n",
       "      <th>sentiment</th>\n",
       "    </tr>\n",
       "  </thead>\n",
       "  <tbody>\n",
       "    <tr>\n",
       "      <th>0</th>\n",
       "      <td>Display is excellent and camera is as good as ...</td>\n",
       "      <td>1</td>\n",
       "    </tr>\n",
       "    <tr>\n",
       "      <th>1</th>\n",
       "      <td>Battery life is also great!</td>\n",
       "      <td>1</td>\n",
       "    </tr>\n",
       "    <tr>\n",
       "      <th>2</th>\n",
       "      <td>Protects the phone on all sides.</td>\n",
       "      <td>1</td>\n",
       "    </tr>\n",
       "    <tr>\n",
       "      <th>3</th>\n",
       "      <td>Clear Skype Calls, Long Battery Life, Long Range.</td>\n",
       "      <td>1</td>\n",
       "    </tr>\n",
       "    <tr>\n",
       "      <th>4</th>\n",
       "      <td>Great Hands Free Device.</td>\n",
       "      <td>1</td>\n",
       "    </tr>\n",
       "  </tbody>\n",
       "</table>\n",
       "</div>"
      ],
      "text/plain": [
       "                                                text  sentiment\n",
       "0  Display is excellent and camera is as good as ...          1\n",
       "1                        Battery life is also great!          1\n",
       "2                   Protects the phone on all sides.          1\n",
       "3  Clear Skype Calls, Long Battery Life, Long Range.          1\n",
       "4                           Great Hands Free Device.          1"
      ]
     },
     "execution_count": 6,
     "metadata": {},
     "output_type": "execute_result"
    }
   ],
   "source": [
    "messages.head()"
   ]
  },
  {
   "cell_type": "markdown",
   "id": "1b0e8f48",
   "metadata": {},
   "source": [
    "# Data Cleaning & Preprocessing"
   ]
  },
  {
   "cell_type": "code",
   "execution_count": 7,
   "id": "cedf0f0b",
   "metadata": {},
   "outputs": [
    {
     "data": {
      "text/plain": [
       "array([1, 0], dtype=int64)"
      ]
     },
     "execution_count": 7,
     "metadata": {},
     "output_type": "execute_result"
    }
   ],
   "source": [
    "messages.sentiment.unique()"
   ]
  },
  {
   "cell_type": "code",
   "execution_count": 8,
   "id": "f6a2ae11",
   "metadata": {},
   "outputs": [],
   "source": [
    "def to_sentiment(sentiment):\n",
    "  sentiment = sentiment\n",
    "  if sentiment == 0:\n",
    "    return 'negative'\n",
    "  else: \n",
    "    return 'positive'\n",
    "messages['target'] = messages.sentiment.apply(to_sentiment)"
   ]
  },
  {
   "cell_type": "code",
   "execution_count": 9,
   "id": "710ae7ec",
   "metadata": {},
   "outputs": [
    {
     "data": {
      "text/plain": [
       "0       positive\n",
       "1       positive\n",
       "2       positive\n",
       "3       positive\n",
       "4       positive\n",
       "          ...   \n",
       "5195    negative\n",
       "5196    negative\n",
       "5197    negative\n",
       "5198    negative\n",
       "5199    negative\n",
       "Name: target, Length: 5200, dtype: object"
      ]
     },
     "execution_count": 9,
     "metadata": {},
     "output_type": "execute_result"
    }
   ],
   "source": [
    "messages['target']"
   ]
  },
  {
   "cell_type": "code",
   "execution_count": 10,
   "id": "00bce992",
   "metadata": {},
   "outputs": [
    {
     "name": "stderr",
     "output_type": "stream",
     "text": [
      "[nltk_data] Downloading package stopwords to\n",
      "[nltk_data]     C:\\Users\\user\\AppData\\Roaming\\nltk_data...\n",
      "[nltk_data]   Package stopwords is already up-to-date!\n"
     ]
    },
    {
     "data": {
      "text/plain": [
       "True"
      ]
     },
     "execution_count": 10,
     "metadata": {},
     "output_type": "execute_result"
    }
   ],
   "source": [
    "import re\n",
    "import nltk\n",
    "nltk.download('stopwords')"
   ]
  },
  {
   "cell_type": "code",
   "execution_count": 11,
   "id": "e4b2dd34",
   "metadata": {},
   "outputs": [],
   "source": [
    "from nltk.corpus import stopwords\n",
    "from nltk.stem.porter import PorterStemmer #to find the root word"
   ]
  },
  {
   "cell_type": "code",
   "execution_count": 12,
   "id": "40da4b12",
   "metadata": {},
   "outputs": [],
   "source": [
    "ps = PorterStemmer()\n",
    "corpus = []"
   ]
  },
  {
   "cell_type": "code",
   "execution_count": 13,
   "id": "18b37fc2",
   "metadata": {},
   "outputs": [],
   "source": [
    "for i in range (0,len(messages)):\n",
    "    # Cleaning special character from the feedbacks\n",
    "    feedback = re.sub('[^a-zA-Z]',' ',str(messages['text'][i]))\n",
    "    \n",
    "    # Converting the entire feedback into lower case\n",
    "    feedback = feedback.lower()\n",
    "    \n",
    "    # Tokenizing the feedback by words\n",
    "    feedback_words = feedback.split()\n",
    "    \n",
    "    # Stemming the words and removing the stopwords\n",
    "    feedback = [ps.stem(word) for word in feedback_words if not word in set(stopwords.words('english')) ]\n",
    "    \n",
    "    # Joining the stemmed words\n",
    "    feedback = ' '.join(feedback)\n",
    "\n",
    "    # Creating a corpus\n",
    "    corpus.append(feedback)"
   ]
  },
  {
   "cell_type": "code",
   "execution_count": 14,
   "id": "2206330e",
   "metadata": {},
   "outputs": [
    {
     "data": {
      "text/plain": [
       "['display excel camera good year',\n",
       " 'batteri life also great',\n",
       " 'protect phone side',\n",
       " 'clear skype call long batteri life long rang',\n",
       " 'great hand free devic',\n",
       " 'even take self portrait outsid exterior display cool',\n",
       " 'tri mani mani handsfre gadget one final work well',\n",
       " 'magic help',\n",
       " 'best phone market',\n",
       " 'work well']"
      ]
     },
     "execution_count": 14,
     "metadata": {},
     "output_type": "execute_result"
    }
   ],
   "source": [
    "corpus[0:10]"
   ]
  },
  {
   "cell_type": "code",
   "execution_count": 15,
   "id": "43b19256",
   "metadata": {},
   "outputs": [],
   "source": [
    "# Creating the Bag of Words model\n",
    "from sklearn.feature_extraction.text import CountVectorizer\n",
    "cv = CountVectorizer(max_features=1500)\n",
    "X = cv.fit_transform(corpus).toarray()\n",
    "y = messages['target'].values"
   ]
  },
  {
   "cell_type": "code",
   "execution_count": 16,
   "id": "d5350817",
   "metadata": {},
   "outputs": [
    {
     "data": {
      "text/plain": [
       "(5200, 1500)"
      ]
     },
     "execution_count": 16,
     "metadata": {},
     "output_type": "execute_result"
    }
   ],
   "source": [
    "X.shape"
   ]
  },
  {
   "cell_type": "code",
   "execution_count": 17,
   "id": "3b016b70",
   "metadata": {},
   "outputs": [
    {
     "data": {
      "text/plain": [
       "(5200,)"
      ]
     },
     "execution_count": 17,
     "metadata": {},
     "output_type": "execute_result"
    }
   ],
   "source": [
    "y.shape"
   ]
  },
  {
   "cell_type": "markdown",
   "id": "0f7c2172",
   "metadata": {},
   "source": [
    "# Training Model"
   ]
  },
  {
   "cell_type": "code",
   "execution_count": 18,
   "id": "99a6aa7a",
   "metadata": {},
   "outputs": [],
   "source": [
    "from sklearn.model_selection import train_test_split\n",
    "X_train, X_test, y_train, y_test = train_test_split(X, y, test_size = 0.20, random_state = 0)"
   ]
  },
  {
   "cell_type": "code",
   "execution_count": 19,
   "id": "48eeb1e4",
   "metadata": {},
   "outputs": [
    {
     "data": {
      "text/plain": [
       "SVC(C=10, gamma=0.1)"
      ]
     },
     "execution_count": 19,
     "metadata": {},
     "output_type": "execute_result"
    }
   ],
   "source": [
    "# Fitting Support Vector Machine Classifier to the Training set\n",
    "from sklearn.svm import SVC\n",
    "model = SVC(C=10, gamma=0.1)\n",
    "model.fit(X_train, y_train)"
   ]
  },
  {
   "cell_type": "code",
   "execution_count": 20,
   "id": "217c6442",
   "metadata": {},
   "outputs": [],
   "source": [
    "# Predicting the Test set results\n",
    "y_pred = model.predict(X_test)"
   ]
  },
  {
   "cell_type": "code",
   "execution_count": 21,
   "id": "bc187a65",
   "metadata": {},
   "outputs": [
    {
     "name": "stdout",
     "output_type": "stream",
     "text": [
      "              precision    recall  f1-score   support\n",
      "\n",
      "    negative       0.84      0.88      0.86       529\n",
      "    positive       0.87      0.82      0.85       511\n",
      "\n",
      "    accuracy                           0.85      1040\n",
      "   macro avg       0.85      0.85      0.85      1040\n",
      "weighted avg       0.85      0.85      0.85      1040\n",
      "\n"
     ]
    }
   ],
   "source": [
    "from sklearn.metrics import classification_report\n",
    "print(classification_report(y_test, y_pred))"
   ]
  },
  {
   "cell_type": "code",
   "execution_count": 22,
   "id": "fe82e0f7",
   "metadata": {},
   "outputs": [
    {
     "data": {
      "text/plain": [
       "array([[465,  64],\n",
       "       [ 90, 421]], dtype=int64)"
      ]
     },
     "execution_count": 22,
     "metadata": {},
     "output_type": "execute_result"
    }
   ],
   "source": [
    "# Making the Confusion Matrix\n",
    "from sklearn.metrics import confusion_matrix\n",
    "cm = confusion_matrix(y_test, y_pred)\n",
    "cm"
   ]
  },
  {
   "cell_type": "code",
   "execution_count": 23,
   "id": "88d3bdca",
   "metadata": {},
   "outputs": [
    {
     "data": {
      "text/plain": [
       "SVC(C=10, gamma=0.1)"
      ]
     },
     "execution_count": 23,
     "metadata": {},
     "output_type": "execute_result"
    }
   ],
   "source": [
    "model = SVC(C=10, gamma=0.1)\n",
    "model.fit(X_train, y_train)"
   ]
  },
  {
   "cell_type": "markdown",
   "id": "bc6d5c4f",
   "metadata": {},
   "source": [
    "# Predictions"
   ]
  },
  {
   "cell_type": "code",
   "execution_count": 24,
   "id": "15179119",
   "metadata": {},
   "outputs": [],
   "source": [
    "def predict_sentiment(sample_feedback):\n",
    "  sample_feedback = re.sub(pattern='[^a-zA-Z]',repl=' ', string = sample_feedback)\n",
    "  sample_feedback = sample_feedback.lower()\n",
    "  sample_feedback_words = sample_feedback.split()\n",
    "  sample_feedback_words = [word for word in sample_feedback_words if not word in set(stopwords.words('english'))]\n",
    "  ps = PorterStemmer()\n",
    "  final_feedback = [ps.stem(word) for word in sample_feedback_words]\n",
    "  final_feedback = ' '.join(final_feedback)\n",
    "  print(final_feedback)\n",
    "\n",
    "  temp = cv.transform([final_feedback]).toarray()\n",
    "  print(model.predict(temp))\n",
    "  return model.predict(temp)"
   ]
  },
  {
   "cell_type": "code",
   "execution_count": 25,
   "id": "e4e31ac0",
   "metadata": {},
   "outputs": [
    {
     "name": "stdout",
     "output_type": "stream",
     "text": [
      "onlin learn realli worst made anxiou\n",
      "['negative']\n"
     ]
    },
    {
     "data": {
      "text/plain": [
       "array(['negative'], dtype=object)"
      ]
     },
     "execution_count": 25,
     "metadata": {},
     "output_type": "execute_result"
    }
   ],
   "source": [
    "# Predicting values\n",
    "sample_feedback = 'online learning is really worst it made me anxious.'\n",
    "predict_sentiment(sample_feedback)"
   ]
  },
  {
   "cell_type": "code",
   "execution_count": 26,
   "id": "4bac460c",
   "metadata": {},
   "outputs": [
    {
     "name": "stdout",
     "output_type": "stream",
     "text": [
      "find onlin learn best suit\n",
      "['positive']\n"
     ]
    },
    {
     "data": {
      "text/plain": [
       "array(['positive'], dtype=object)"
      ]
     },
     "execution_count": 26,
     "metadata": {},
     "output_type": "execute_result"
    }
   ],
   "source": [
    "# Predicting values\n",
    "sample_feedback = 'I find online learning best suited for me.'\n",
    "predict_sentiment(sample_feedback)"
   ]
  },
  {
   "cell_type": "code",
   "execution_count": null,
   "id": "3d4ce4cd",
   "metadata": {},
   "outputs": [],
   "source": []
  }
 ],
 "metadata": {
  "kernelspec": {
   "display_name": "Python 3",
   "language": "python",
   "name": "python3"
  },
  "language_info": {
   "codemirror_mode": {
    "name": "ipython",
    "version": 3
   },
   "file_extension": ".py",
   "mimetype": "text/x-python",
   "name": "python",
   "nbconvert_exporter": "python",
   "pygments_lexer": "ipython3",
   "version": "3.8.8"
  }
 },
 "nbformat": 4,
 "nbformat_minor": 5
}
